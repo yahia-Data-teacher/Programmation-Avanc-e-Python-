{
  "nbformat": 4,
  "nbformat_minor": 0,
  "metadata": {
    "colab": {
      "provenance": [],
      "authorship_tag": "ABX9TyOF+KseYusT016n9LEFjHt6",
      "include_colab_link": true
    },
    "kernelspec": {
      "name": "python3",
      "display_name": "Python 3"
    },
    "language_info": {
      "name": "python"
    }
  },
  "cells": [
    {
      "cell_type": "markdown",
      "metadata": {
        "id": "view-in-github",
        "colab_type": "text"
      },
      "source": [
        "<a href=\"https://colab.research.google.com/github/zinebzannouti/POO-Python/blob/main/4_Encapsulation.ipynb\" target=\"_parent\"><img src=\"https://colab.research.google.com/assets/colab-badge.svg\" alt=\"Open In Colab\"/></a>"
      ]
    },
    {
      "cell_type": "markdown",
      "source": [
        "# **Encapsulation :**\n",
        "- Sous une forme brute, l'encapsulation signifie essentiellement la liaison de données dans une seule classe.\n",
        "- Python n'a pas de mot-clé privé, contrairement à Java .\n",
        "- Une classe ne doit pas être accessible directement mais être préfixée par un trait de soulignement."
      ],
      "metadata": {
        "id": "l1vLMRX6jyZM"
      }
    },
    {
      "cell_type": "code",
      "source": [
        "class employee(object):\n",
        "    def __init__(self):   \n",
        "        self.name = 1234\n",
        "        self._age = 1234\n",
        "        self.__salary = 1234\n",
        " \n",
        "object1 = employee()\n",
        "print(object1.name)\n",
        "print(object1._age)\n",
        "print(object1.__salary)"
      ],
      "metadata": {
        "id": "YfgoJ6cInshN"
      },
      "execution_count": null,
      "outputs": []
    },
    {
      "cell_type": "markdown",
      "source": [
        "- Quel est le underscore et l'erreur ?\n",
        "- Eh bien, la classe python traite les variables privées comme (__salary) qui ne sont pas accessibles directement."
      ],
      "metadata": {
        "id": "3ZsA2bF7ktee"
      }
    },
    {
      "cell_type": "markdown",
      "source": [
        "- On a donc utilisé la méthode setter qui leur donne un accès indirect dans mon prochain exemple."
      ],
      "metadata": {
        "id": "kXFNEdkuk7Lg"
      }
    },
    {
      "cell_type": "code",
      "source": [
        "class employee():\n",
        "    def __init__(self):\n",
        "        self.__maxearn = 1000000\n",
        "    def earn(self):\n",
        "        print(\"earning is:{}\".format(self.__maxearn))\n",
        " \n",
        "    def setmaxearn(self,earn):#setter method used for accesing private class\n",
        "        self.__maxearn = earn\n",
        " "
      ],
      "metadata": {
        "id": "7wR59fIXk16j"
      },
      "execution_count": 3,
      "outputs": []
    },
    {
      "cell_type": "markdown",
      "source": [
        "- L'utilisation de la méthode setter fournit un accès indirect à la méthode de la classe privée .\n",
        "- Ici, on a défini un employé de classe et utilisé un (__maxearn) qui est la méthode de définition utilisée ici pour stocker le gain maximum de l'employé, et une fonction de définition setmaxearn() qui prend le prix comme paramètre."
      ],
      "metadata": {
        "id": "Wv7XvHCUnTYO"
      }
    },
    {
      "cell_type": "code",
      "source": [
        "emp1 = employee()\n",
        "emp1.earn()\n",
        " \n",
        "emp1.__maxearn = 10000\n",
        "emp1.earn()\n",
        " \n",
        "emp1.setmaxearn(10000)\n",
        "emp1.earn()"
      ],
      "metadata": {
        "colab": {
          "base_uri": "https://localhost:8080/"
        },
        "id": "cccoSlf0lMn1",
        "outputId": "f3ce707e-18c2-430c-cf76-b9a441913fbe"
      },
      "execution_count": 4,
      "outputs": [
        {
          "output_type": "stream",
          "name": "stdout",
          "text": [
            "earning is:1000000\n",
            "earning is:1000000\n",
            "earning is:10000\n"
          ]
        }
      ]
    }
  ]
}