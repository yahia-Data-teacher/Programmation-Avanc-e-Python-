{
  "nbformat": 4,
  "nbformat_minor": 0,
  "metadata": {
    "colab": {
      "provenance": [],
      "authorship_tag": "ABX9TyOgWM/nANbUYplNzBtZenmw",
      "include_colab_link": true
    },
    "kernelspec": {
      "name": "python3",
      "display_name": "Python 3"
    },
    "language_info": {
      "name": "python"
    }
  },
  "cells": [
    {
      "cell_type": "markdown",
      "metadata": {
        "id": "view-in-github",
        "colab_type": "text"
      },
      "source": [
        "<a href=\"https://colab.research.google.com/github/zinebzannouti/POO-Python/blob/main/projet/projet%201/Solution_projet_1_Compte_Bancaire.ipynb\" target=\"_parent\"><img src=\"https://colab.research.google.com/assets/colab-badge.svg\" alt=\"Open In Colab\"/></a>"
      ]
    },
    {
      "cell_type": "markdown",
      "source": [
        "# **Solution projet 1 : Compte Bancaire**"
      ],
      "metadata": {
        "id": "pr6HLVRy2ZgK"
      }
    },
    {
      "cell_type": "code",
      "execution_count": 5,
      "metadata": {
        "id": "9BctDDZmxbvR"
      },
      "outputs": [],
      "source": [
        "class Compte:\n",
        "\t#classe de gestion de compte bancaire\n",
        "\tnum_compte=1 \n",
        "\t# variable interne a la classe pour \n",
        "\t# attribuer le numero de compte\n",
        "\tdef __init__(self,titulaire,solde=0,autorisation=800,\\\n",
        "\t\t\t\tdebitmax=1000):\n",
        "\t\t#creation avec titulaire+solde+autorisation+debitmax\n",
        "\t\tself.numero = Compte.num_compte\n",
        "\t\tCompte.num_compte+=1\n",
        "\t\tself.titulaire = titulaire\n",
        "\t\tself.solde = solde\n",
        "\t\tself.autorisation = autorisation\n",
        "\t\tself.debitmax = debitmax\n",
        "\tdef est_a_decouvert(self):\n",
        "\t\t#booleen indiquant si le compte est a decouvert\n",
        "\t\treturn self.solde<0\n",
        "\tdef debit_autorise(self,valeur):\n",
        "\t\t#booleen indiquant si le debit est autorise\n",
        "\t\treturn (self.solde+self.autorisation-valeur>=0) \\\n",
        "\t\t     and (self.debitmax>=valeur)\n",
        "\tdef crediter(self,valeur):\n",
        "\t\t#augmente le solde du compte de 'valeur'\n",
        "\t\tself.solde += valeur\n",
        "\tdef debiter(self,valeur):\n",
        "\t\t#diminue si le solde du compte de 'valeur' si autorise\n",
        "\t\tif self.debit_autorise(valeur):\n",
        "\t\t\tself.solde-=valeur\n",
        "\t\telse:\n",
        "\t\t\tprint ('Debit impossible')\n",
        "\tdef mod_debitmax(self,valeur):\n",
        "\t\t#modifie le debit maximal a 'valeur'\n",
        "\t\tself.debitmax=valeur\n",
        "\tdef mod_autorisation(self,valeur):\n",
        "\t\t#modifie l'autorisation de decouvert a 'valeur'\n",
        "\t\tself.autorisation=valeur\n",
        "\tdef virement(self,compte,valeur):\n",
        "\t\t#realise le virement de 'valeur' sur 'compte'\n",
        "\t\tif self.debit_autorise(valeur):\n",
        "\t\t\tself.debiter(valeur)\n",
        "\t\t\tcompte.crediter(valeur)\n",
        "\t\telse:\n",
        "\t\t\tprint ('Virement impossible')\n",
        "\tdef afficher(self):\n",
        "\t\t#affiche l'etat complet du compte\n",
        "\t\tprint (\"Numero du compte    : \", str(self.numero))\n",
        "\t\tprint (\"Titulaire du compte : \", str(self.titulaire))\n",
        "\t\tprint (\"Solde               : \", str(self.solde))\n",
        "\t\tprint (\"Decouvert autorise  : \", str(self.autorisation))\n",
        "\t\tprint (\"Debit max autorise  : \", str(self.debitmax))\n",
        "\t\tif self.est_a_decouvert():\n",
        "\t\t\tprint (\"\\nCompte a decouvert !\")"
      ]
    },
    {
      "cell_type": "code",
      "source": [
        "c1 = Compte('J. Dupont',1000)\n",
        "c2 = Compte('C. Durand',50000,5000,6000)\n",
        "c1.afficher()\n",
        "c2.afficher()\n",
        "c1.debiter(300)\n",
        "c2.debiter(600)\n",
        "c1.crediter(500)\n",
        "c1.afficher()\n",
        "c2.afficher()\n",
        "c2.virement(c1,1000)\n",
        "c1.afficher()\n",
        "c2.afficher()"
      ],
      "metadata": {
        "colab": {
          "base_uri": "https://localhost:8080/"
        },
        "id": "7mIc2jqoy3oU",
        "outputId": "be208403-5344-471d-815e-4f3cd70058cc"
      },
      "execution_count": 6,
      "outputs": [
        {
          "output_type": "stream",
          "name": "stdout",
          "text": [
            "Numero du compte    :  1\n",
            "Titulaire du compte :  J. Dupont\n",
            "Solde               :  1000\n",
            "Decouvert autorise  :  800\n",
            "Debit max autorise  :  1000\n",
            "Numero du compte    :  2\n",
            "Titulaire du compte :  C. Durand\n",
            "Solde               :  50000\n",
            "Decouvert autorise  :  5000\n",
            "Debit max autorise  :  6000\n",
            "Numero du compte    :  1\n",
            "Titulaire du compte :  J. Dupont\n",
            "Solde               :  1200\n",
            "Decouvert autorise  :  800\n",
            "Debit max autorise  :  1000\n",
            "Numero du compte    :  2\n",
            "Titulaire du compte :  C. Durand\n",
            "Solde               :  49400\n",
            "Decouvert autorise  :  5000\n",
            "Debit max autorise  :  6000\n",
            "Numero du compte    :  1\n",
            "Titulaire du compte :  J. Dupont\n",
            "Solde               :  2200\n",
            "Decouvert autorise  :  800\n",
            "Debit max autorise  :  1000\n",
            "Numero du compte    :  2\n",
            "Titulaire du compte :  C. Durand\n",
            "Solde               :  48400\n",
            "Decouvert autorise  :  5000\n",
            "Debit max autorise  :  6000\n"
          ]
        }
      ]
    }
  ]
}