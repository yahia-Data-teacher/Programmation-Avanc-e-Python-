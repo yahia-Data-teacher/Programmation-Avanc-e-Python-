{
  "nbformat": 4,
  "nbformat_minor": 0,
  "metadata": {
    "colab": {
      "provenance": [],
      "authorship_tag": "ABX9TyO+9QHIS1+79QqGWQlou8BN",
      "include_colab_link": true
    },
    "kernelspec": {
      "name": "python3",
      "display_name": "Python 3"
    },
    "language_info": {
      "name": "python"
    }
  },
  "cells": [
    {
      "cell_type": "markdown",
      "metadata": {
        "id": "view-in-github",
        "colab_type": "text"
      },
      "source": [
        "<a href=\"https://colab.research.google.com/github/zinebzannouti/POO-Python/blob/main/1_Cr%C3%A9ation_de_classe_et_objet.ipynb\" target=\"_parent\"><img src=\"https://colab.research.google.com/assets/colab-badge.svg\" alt=\"Open In Colab\"/></a>"
      ]
    },
    {
      "cell_type": "markdown",
      "source": [
        "**Les classes en python**"
      ],
      "metadata": {
        "id": "Mp87y832Ghrq"
      }
    },
    {
      "cell_type": "markdown",
      "source": [
        "- Une classe est une collection d'objets ou vous pouvez dire que c'est un plan d'objets définissant les attributs et le comportement communs.\n",
        "- Maintenant, la question se pose, comment faites-vous cela? \n",
        "- Eh bien, il regroupe logiquement les données de manière à ce que la réutilisation du code devienne facile."
      ],
      "metadata": {
        "id": "vtanJj2QGmVv"
      }
    },
    {
      "cell_type": "markdown",
      "source": [
        "**Objets:**\n",
        "- Les objets sont une instance d'une classe.\n",
        "- C'est une entité qui a un état et un comportement.\n",
        "- En un mot, c'est une instance d'une classe qui peut accéder aux données."
      ],
      "metadata": {
        "id": "zXcHBQStHDxX"
      }
    },
    {
      "cell_type": "markdown",
      "source": [
        "**Exemples Concret :**"
      ],
      "metadata": {
        "id": "o4iBcr70HLyc"
      }
    },
    {
      "cell_type": "markdown",
      "source": [
        "- pensez à un bureau qui devient 'employee' en tant que classe et à tous les attributs qui y sont liés comme 'emp_name', 'emp_age', 'emp_salary', 'emp_id' comme objets dans Python . "
      ],
      "metadata": {
        "id": "m1evQABoHR-t"
      }
    },
    {
      "cell_type": "code",
      "execution_count": 3,
      "metadata": {
        "id": "tgsqd4d6-uFi"
      },
      "outputs": [],
      "source": [
        "class employee():\n",
        "    #creating a function\n",
        "    def __init__(self,name,age,id,salary):   \n",
        "        #self is an instance of a class\n",
        "        self.name = name \n",
        "        self.age = age\n",
        "        self.salary = salary\n",
        "        self.id = id"
      ]
    },
    {
      "cell_type": "markdown",
      "source": [
        "- 'emp1' et 'emp2' sont les objets qui sont instanciés sur la classe 'employee'.\n",
        "- Ici, le mot (__dict__) est un \"dictionnaire\" qui imprime toutes les valeurs de l'objet 'emp1' par rapport au paramètre donné (nom, âge, salaire). - -(__init__) agit comme un constructeur qui est invoqué chaque fois qu'un objet est créé."
      ],
      "metadata": {
        "id": "lSgvDi2bIBow"
      }
    },
    {
      "cell_type": "code",
      "source": [
        "#creating objects \n",
        "emp1 = employee(\"harshit\",22,1000,1234) \n",
        "emp2 = employee(\"arjun\",23,2000,2234)\n",
        "#print dictionary\n",
        "print(emp1.__dict__)"
      ],
      "metadata": {
        "colab": {
          "base_uri": "https://localhost:8080/"
        },
        "id": "oEG7uG10H3Gr",
        "outputId": "576e286c-5bb3-4295-b9ef-842d41b3fe63"
      },
      "execution_count": 4,
      "outputs": [
        {
          "output_type": "stream",
          "name": "stdout",
          "text": [
            "{'name': 'harshit', 'age': 22, 'salary': 1234, 'id': 1000}\n"
          ]
        }
      ]
    }
  ]
}