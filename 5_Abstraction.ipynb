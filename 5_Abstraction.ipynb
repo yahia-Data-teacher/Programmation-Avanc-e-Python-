{
  "nbformat": 4,
  "nbformat_minor": 0,
  "metadata": {
    "colab": {
      "provenance": [],
      "authorship_tag": "ABX9TyNxvt/O6Xkc+He7vOxzhfN8",
      "include_colab_link": true
    },
    "kernelspec": {
      "name": "python3",
      "display_name": "Python 3"
    },
    "language_info": {
      "name": "python"
    }
  },
  "cells": [
    {
      "cell_type": "markdown",
      "metadata": {
        "id": "view-in-github",
        "colab_type": "text"
      },
      "source": [
        "<a href=\"https://colab.research.google.com/github/zinebzannouti/POO-Python/blob/main/5_Abstraction.ipynb\" target=\"_parent\"><img src=\"https://colab.research.google.com/assets/colab-badge.svg\" alt=\"Open In Colab\"/></a>"
      ]
    },
    {
      "cell_type": "markdown",
      "source": [
        "# **Abstraction:**\n",
        "\n",
        "- Supposons que vous ayez réservé un billet de cinéma sur bookmyshow en utilisant la banque en ligne ou tout autre processus.\n",
        "- Vous ne connaissez pas la procédure de génération de la broche ou la manière dont la vérification est effectuée.\n",
        "- C'est ce qu'on appelle «l'abstraction» du point de vue de la programmation, cela signifie essentiellement que vous ne montrez que les détails de mise en œuvre d'un processus particulier et que vous masquez les détails à l'utilisateur.\n",
        "- Il est utilisé pour simplifier des problèmes complexes en modélisant des classes appropriées au problème."
      ],
      "metadata": {
        "id": "QvmK9oRVoHx7"
      }
    },
    {
      "cell_type": "markdown",
      "source": [
        "- Une classe abstraite ne peut pas être instanciée, ce qui signifie simplement que vous ne pouvez pas créer d'objets pour ce type de classe .\n",
        "- Il ne peut être utilisé que pour hériter des fonctionnalités."
      ],
      "metadata": {
        "id": "O7518UiYoX0V"
      }
    },
    {
      "cell_type": "code",
      "execution_count": 1,
      "metadata": {
        "id": "RCg-tPKSoGrV"
      },
      "outputs": [],
      "source": [
        "from abc import ABC,abstractmethod"
      ]
    },
    {
      "cell_type": "code",
      "source": [
        "class employee(ABC):\n",
        "    def emp_id(self,id,name,age,salary):    #Abstraction\n",
        "        pass\n",
        " "
      ],
      "metadata": {
        "id": "kmv1DXV4olpE"
      },
      "execution_count": 2,
      "outputs": []
    },
    {
      "cell_type": "code",
      "source": [
        "class childemployee1(employee):\n",
        "    def emp_id(self,id):\n",
        "        print(\"emp_id is 12345\")"
      ],
      "metadata": {
        "id": "3I9JKxPeop3u"
      },
      "execution_count": 3,
      "outputs": []
    },
    {
      "cell_type": "code",
      "source": [
        "emp1 = childemployee1()\n",
        "emp1.emp_id(id)"
      ],
      "metadata": {
        "colab": {
          "base_uri": "https://localhost:8080/"
        },
        "id": "CaqPf3adosvu",
        "outputId": "c6a30145-34e4-4f73-c418-a104ba699697"
      },
      "execution_count": 4,
      "outputs": [
        {
          "output_type": "stream",
          "name": "stdout",
          "text": [
            "emp_id is 12345\n"
          ]
        }
      ]
    },
    {
      "cell_type": "markdown",
      "source": [
        "- Comme vous pouvez le voir dans l'exemple ci-dessus, nous avons importé une méthode abstraite et le reste du programme a un parent et une classe dérivée. \n",
        "- Un objet est instancié pour la classe de base 'childemployee' et la fonctionnalité de abstract est utilisée."
      ],
      "metadata": {
        "id": "gHI6cc2Fo3EY"
      }
    }
  ]
}