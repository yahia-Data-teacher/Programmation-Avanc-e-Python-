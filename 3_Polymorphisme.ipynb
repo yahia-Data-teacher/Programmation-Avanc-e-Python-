{
  "nbformat": 4,
  "nbformat_minor": 0,
  "metadata": {
    "colab": {
      "provenance": [],
      "authorship_tag": "ABX9TyORirdBCLXqpSx2FTXJHmZc",
      "include_colab_link": true
    },
    "kernelspec": {
      "name": "python3",
      "display_name": "Python 3"
    },
    "language_info": {
      "name": "python"
    }
  },
  "cells": [
    {
      "cell_type": "markdown",
      "metadata": {
        "id": "view-in-github",
        "colab_type": "text"
      },
      "source": [
        "<a href=\"https://colab.research.google.com/github/zinebzannouti/POO-Python/blob/main/3_Polymorphisme.ipynb\" target=\"_parent\"><img src=\"https://colab.research.google.com/assets/colab-badge.svg\" alt=\"Open In Colab\"/></a>"
      ]
    },
    {
      "cell_type": "markdown",
      "source": [
        "# **Polymorphisme:**\n",
        "\n",
        "- Vous devez tous avoir utilisé le GPS pour naviguer sur l'itinéraire.\n",
        "- N'est-il pas étonnant de voir le nombre d'itinéraires différents que vous rencontrez pour la même destination en fonction du trafic, d'un point de vue de la programmation, cela s'appelle le « polymorphisme ».\n",
        "- C'est une telle méthodologie OOP où une tâche peut être effectuée de plusieurs manières différentes.\n",
        "- Pour le dire simplement, c'est une propriété d'un objet qui lui permet de prendre plusieurs formes ."
      ],
      "metadata": {
        "id": "uPyKOaklb74C"
      }
    },
    {
      "cell_type": "markdown",
      "source": [
        "![image.png](data:image/png;base64,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)"
      ],
      "metadata": {
        "id": "c9S1u-decIyh"
      }
    },
    {
      "cell_type": "markdown",
      "source": [
        "**Le polymorphisme est de deux types :**\n",
        "\n",
        "- Polymorphisme à la compilation (Statique)\n",
        "- Polymorphisme d'exécution (Dynamique)"
      ],
      "metadata": {
        "id": "6Eaq8ofBcJrq"
      }
    },
    {
      "cell_type": "markdown",
      "source": [
        "# **Polymorphisme à la compilation :**\n",
        "- Un polymorphisme au moment de la compilation, également appelé polymorphisme statique, qui est résolu pendant le temps de compilation du programme.\n",
        "- Un exemple courant est la « surcharge de méthode ».\n",
        "\n"
      ],
      "metadata": {
        "id": "-6dUuxy9cgfe"
      }
    },
    {
      "cell_type": "markdown",
      "source": [
        "- On va créé deux classes 'employee1' et 'employee2' et créé des fonctions pour 'name', 'salary' et 'age' et imprimé la valeur de la même chose sans la prendre de l'utilisateur."
      ],
      "metadata": {
        "id": "Un36ZSf3fReY"
      }
    },
    {
      "cell_type": "code",
      "source": [
        "class employee1():\n",
        "    def name(self):\n",
        "        print(\"Harshit is his name\")    \n",
        "    def salary(self):\n",
        "        print(\"3000 is his salary\")\n",
        " \n",
        "    def age(self):\n",
        "        print(\"22 is his age\")\n",
        "class employee2():\n",
        "    def name(self):\n",
        "        print(\"Rahul is his name\")\n",
        " \n",
        "    def salary(self):\n",
        "        print(\"4000 is his salary\")\n",
        " \n",
        "    def age(self):\n",
        "        print(\"23 is his age\")"
      ],
      "metadata": {
        "id": "4XNxzMeqYNZW"
      },
      "execution_count": 10,
      "outputs": []
    },
    {
      "cell_type": "markdown",
      "source": [
        "- Maintenant, on créé une fonction avec 'obj' comme paramètre et appelant les trois fonctions, c'est-à-dire 'nom', 'âge' et 'salaire'."
      ],
      "metadata": {
        "id": "1HnZ6H_af3za"
      }
    },
    {
      "cell_type": "code",
      "source": [
        "def func(obj):#Method Overloading\n",
        "    obj.name()\n",
        "    obj.salary()\n",
        "    obj.age()"
      ],
      "metadata": {
        "id": "JsSMaXVwe8XN"
      },
      "execution_count": 11,
      "outputs": []
    },
    {
      "cell_type": "markdown",
      "source": [
        "- Les objets emp_1 et emp_2 sont instanciés par rapport aux deux classes et ont simplement appelé la fonction .\n",
        "- Ce type est appelé surcharge de méthode, ce qui permet à une classe d'avoir plusieurs méthodes sous le même nom."
      ],
      "metadata": {
        "id": "IaCa-HP9gDx-"
      }
    },
    {
      "cell_type": "code",
      "source": [
        "obj_emp1 = employee1()\n",
        "obj_emp2 = employee2()\n",
        " \n",
        "func(obj_emp1)\n",
        "func(obj_emp2)"
      ],
      "metadata": {
        "colab": {
          "base_uri": "https://localhost:8080/"
        },
        "id": "0NDn_UEEe_Zm",
        "outputId": "4af4a6a7-d5c8-4e74-904a-b637c20ecd19"
      },
      "execution_count": 12,
      "outputs": [
        {
          "output_type": "stream",
          "name": "stdout",
          "text": [
            "Harshit is his name\n",
            "3000 is his salary\n",
            "22 is his age\n",
            "Rahul is his name\n",
            "4000 is his salary\n",
            "23 is his age\n"
          ]
        }
      ]
    },
    {
      "cell_type": "markdown",
      "source": [
        "# **Polymorphisme d'exécution :**\n",
        "- Un polymorphisme d'exécution est également appelé polymorphisme dynamique où il est résolu dans le temps d'exécution.\n",
        "- Un exemple courant de polymorphisme d'exécution est le « remplacement de méthode »."
      ],
      "metadata": {
        "id": "decOaJqngp6A"
      }
    },
    {
      "cell_type": "markdown",
      "source": [
        "- On a créé deux classes 'childemployee1' et 'childemployee2' qui sont dérivées de la même classe de base 'employee'.\n",
        "- Voici le piège l'un n'a pas reçu d'argent alors que l'autre en reçoit. Maintenant, la vraie question est de savoir comment cela s'est produit? \n",
        "- Eh bien, ici, si vous regardez attentivement, on a créé une fonction vide et utilisé Pass (une instruction qui est utilisée lorsque vous ne voulez exécuter aucune commande ou code).\n",
        "- Maintenant, sous les deux classes dérivées, on a utilisé la même fonction vide et utilisé l'instruction print comme 'no money' et 'has money' .\n"
      ],
      "metadata": {
        "id": "zsuT5468hM_e"
      }
    },
    {
      "cell_type": "code",
      "source": [
        "class employee():\n",
        "    def __init__(self,name,age,id,salary):  \n",
        "       self.name = name\n",
        "       self.age = age\n",
        "       self.salary = salary\n",
        "       self.id = id\n",
        "    def earn(self):\n",
        "        pass\n",
        " \n",
        "class childemployee1(employee):\n",
        " \n",
        "   def earn(self):#Run-time polymorphism\n",
        "      print(\"no money\")\n",
        " \n",
        "class childemployee2(employee):\n",
        " \n",
        "   def earn(self):\n",
        "       print(\"has money\")\n",
        " \n"
      ],
      "metadata": {
        "id": "dJWhYQyIgvRi"
      },
      "execution_count": 14,
      "outputs": []
    },
    {
      "cell_type": "markdown",
      "source": [
        "- Enfin, créé deux objets et appelé la fonction."
      ],
      "metadata": {
        "id": "MhaRXs6Ji8Vw"
      }
    },
    {
      "cell_type": "code",
      "source": [
        "c = childemployee1\n",
        "c.earn(employee)\n",
        "d = childemployee2\n",
        "d.earn(employee)"
      ],
      "metadata": {
        "colab": {
          "base_uri": "https://localhost:8080/"
        },
        "id": "Pn4E9tLriPAY",
        "outputId": "be6cbf66-3676-4422-b6ac-c14b3bbb8d62"
      },
      "execution_count": 15,
      "outputs": [
        {
          "output_type": "stream",
          "name": "stdout",
          "text": [
            "no money\n",
            "has money\n"
          ]
        }
      ]
    }
  ]
}